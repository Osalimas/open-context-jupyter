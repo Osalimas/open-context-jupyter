{
 "cells": [
  {
   "cell_type": "markdown",
   "metadata": {},
   "source": [
    "# Open Context Zooarchaeology Measurements"
   ]
  },
  {
   "cell_type": "markdown",
   "metadata": {},
   "source": [
    "This code gets meaurement data from Open Context to hopefully do some interesting things."
   ]
  },
  {
   "cell_type": "code",
   "execution_count": 6,
   "metadata": {},
   "outputs": [],
   "source": [
    "import requests\n",
    "from time import sleep\n",
    "\n",
    "class OpenContextAPI():\n",
    "    \"\"\" Interacts with the Open Context API\n",
    "        to get lists of records for analysis\n",
    "        \n",
    "        See API documentation here: https://opencontext.org/about/services\n",
    "    \"\"\"\n",
    "    RECS_PER_REQUEST = 200  # number of records to retrieve per request\n",
    "    FLATTEN_ATTRIBUTES = True  # make sure attributes are single value, not lists\n",
    "    RESPONSE_TYPE_LIST = ['metadata', 'uri-meta']\n",
    "    SLEEP_TIME = .35  # seconds to pause between requests\n",
    "\n",
    "    def __init__(self):\n",
    "        self.recs_per_request = self.RECS_PER_REQUEST\n",
    "        self.sleep_time = self.SLEEP_TIME\n",
    "        self.flatten_attributes = self.FLATTEN_ATTRIBUTES\n",
    "        self.response_types = self.RESPONSE_TYPE_LIST\n",
    "        self.add_standard_num_attribs = True  # automatically add standard numeric attributes to records\n",
    "        self.attribute_slugs = []  # slug identifiers of additional attributes to include with records\n",
    "        self.attribute_labels = []\n",
    "    \n",
    "    def get_selection_attributes(self, url):\n",
    "        \"\"\" Each Open Context query selects records described by a\n",
    "            different set of attributes.\n",
    "            \n",
    "            This method finds the numeric and general \n",
    "            gets attributes available for an Open Context search\n",
    "        \"\"\"\n",
    "        headers = {\n",
    "            'accept': 'application/json'\n",
    "        }\n",
    "        json_data = None\n",
    "        try:\n",
    "            sleep(self.sleep_time)  # pause to not overwhelm the API\n",
    "            print('GET attributes for: ' + url)\n",
    "            r = requests.get(url, headers=headers)\n",
    "            r.raise_for_status()\n",
    "            json_data = r.json()\n",
    "        except:\n",
    "            raise('Request fail at: ' + url)\n",
    "            json_data = None\n",
    "        if json_data is not None:\n",
    "            if 'oc-api:has-facets' in json_data:\n",
    "                for facet in json_data['oc-api:has-facets']:\n",
    "                    if self.add_standard_num_attribs:\n",
    "                        if 'rdfs:isDefinedBy' in facet:\n",
    "                            if 'opencontext.org/vocabularies/' in facet['rdfs:isDefinedBy']:\n",
    "                                # a facet option defined as part of an Open Context vocabulary\n",
    "                                # this would have standard numeric attributes\n",
    "                                if 'oc-api:has-numeric-options' in facet:\n",
    "                                    for f_opt in facet['oc-api:has-numeric-options']:\n",
    "                                        slug = f_opt['slug']\n",
    "                                        label = f_opt['label']\n",
    "                                        if slug not in self.attribute_slugs:\n",
    "                                            # add the numeric attribute slug\n",
    "                                            self.attribute_slugs.append(slug)\n",
    "                                            if label not in self.attribute_labels:\n",
    "                                                self.attribute_labels.append(label)\n",
    "                                            else:\n",
    "                                                label = label + '[' + slug + ']'\n",
    "                                                self.attribute_labels.append(label)\n",
    "    \n",
    "    \n",
    "    def get_paged_json_records(self, url, do_paging=True):\n",
    "        \"\"\" gets data from a URL, and follows the next page\n",
    "           link if \"do_paging\" is True\n",
    "        \"\"\"\n",
    "        records = []\n",
    "        headers = {\n",
    "            'accept': 'application/json'\n",
    "        }\n",
    "        json_data = None\n",
    "        add_params = False \n",
    "        params = {}\n",
    "        params['rows'] = self.recs_per_request\n",
    "        if len(self.attribute_slugs) > 0:\n",
    "            params['attributes'] = ','.join(self.attribute_slugs)\n",
    "        if len(self.response_types) > 0:\n",
    "            params['response'] = ','.join(self.response_types)\n",
    "        if self.flatten_attributes:\n",
    "            params['flatten-attributes'] = 1\n",
    "        for key, val in params.items():\n",
    "            if (key + '=') not in url:\n",
    "                add_params = True\n",
    "        try:\n",
    "            sleep(self.sleep_time)  # pause to not overwhelm the API\n",
    "            print('GET: ' + url)\n",
    "            if add_params:\n",
    "                # we need to add request parameters\n",
    "                r = requests.get(url, params=params, headers=headers)\n",
    "            else:\n",
    "                # the parameters are already in the URL\n",
    "                r = requests.get(url, headers=headers)\n",
    "            r.raise_for_status()\n",
    "            json_data = r.json()\n",
    "        except:\n",
    "            raise('Request fail at: ' + url)\n",
    "            json_data = None\n",
    "        if json_data is not None:\n",
    "            # successful request\n",
    "            if 'oc-api:has-results' in json_data:\n",
    "                # add the new records to the result\n",
    "                records += json_data['oc-api:has-results']\n",
    "            if 'next' in json_data and do_paging:\n",
    "                new_url = json_data['next']\n",
    "                if isinstance(new_url, str):\n",
    "                    # recursively get the next page of results\n",
    "                    records += self.get_paged_json_records(new_url, do_paging)\n",
    "        return records\n"
   ]
  },
  {
   "cell_type": "code",
   "execution_count": 7,
   "metadata": {},
   "outputs": [
    {
     "name": "stdout",
     "output_type": "stream",
     "text": [
      "GET attributes for: https://opencontext.org/subjects-search/?prop=biol-term-hastaxonomy---eol-p-1---eol-p-1642---eol-p-7678&prop=oc-zoo-has-anat-id---obo-uberon-0013588&prop=oc-zoo-anatomical-meas---oc-zoo-von-den-driesch-bone-meas\n",
      "GET: https://opencontext.org/subjects-search/?prop=biol-term-hastaxonomy---eol-p-1---eol-p-1642---eol-p-7678&prop=oc-zoo-has-anat-id---obo-uberon-0013588&prop=oc-zoo-anatomical-meas---oc-zoo-von-den-driesch-bone-meas\n",
      "GET: https://opencontext.org/subjects-search/?flatten-attributes=1&prop=biol-term-hastaxonomy---eol-p-1---eol-p-1642---eol-p-7678&prop=oc-zoo-has-anat-id---obo-uberon-0013588&prop=oc-zoo-anatomical-meas---oc-zoo-von-den-driesch-bone-meas&attributes=oc-zoo-bd%2Coc-zoo-bp%2Coc-zoo-dd%2Coc-zoo-dp%2Coc-zoo-bfd%2Coc-zoo-sd%2Coc-zoo-gl%2Coc-zoo-dd-2%2Coc-zoo-lep%2Coc-zoo-ll%2Coc-zoo-ld%2Coc-zoo-cd%2Coc-zoo-slc%2Coc-zoo-gb%2Coc-zoo-gll&rows=200&start=200&response=metadata%2Curi-meta\n",
      "GET: https://opencontext.org/subjects-search/?flatten-attributes=1&prop=biol-term-hastaxonomy---eol-p-1---eol-p-1642---eol-p-7678&prop=oc-zoo-has-anat-id---obo-uberon-0013588&prop=oc-zoo-anatomical-meas---oc-zoo-von-den-driesch-bone-meas&attributes=oc-zoo-bd%2Coc-zoo-bp%2Coc-zoo-dd%2Coc-zoo-dp%2Coc-zoo-bfd%2Coc-zoo-sd%2Coc-zoo-gl%2Coc-zoo-dd-2%2Coc-zoo-lep%2Coc-zoo-ll%2Coc-zoo-ld%2Coc-zoo-cd%2Coc-zoo-slc%2Coc-zoo-gb%2Coc-zoo-gll&rows=200&start=400&response=metadata%2Curi-meta\n",
      "GET: https://opencontext.org/subjects-search/?flatten-attributes=1&prop=biol-term-hastaxonomy---eol-p-1---eol-p-1642---eol-p-7678&prop=oc-zoo-has-anat-id---obo-uberon-0013588&prop=oc-zoo-anatomical-meas---oc-zoo-von-den-driesch-bone-meas&attributes=oc-zoo-bd%2Coc-zoo-bp%2Coc-zoo-dd%2Coc-zoo-dp%2Coc-zoo-bfd%2Coc-zoo-sd%2Coc-zoo-gl%2Coc-zoo-dd-2%2Coc-zoo-lep%2Coc-zoo-ll%2Coc-zoo-ld%2Coc-zoo-cd%2Coc-zoo-slc%2Coc-zoo-gb%2Coc-zoo-gll&rows=200&start=600&response=metadata%2Curi-meta\n",
      "GET: https://opencontext.org/subjects-search/?flatten-attributes=1&prop=biol-term-hastaxonomy---eol-p-1---eol-p-1642---eol-p-7678&prop=oc-zoo-has-anat-id---obo-uberon-0013588&prop=oc-zoo-anatomical-meas---oc-zoo-von-den-driesch-bone-meas&attributes=oc-zoo-bd%2Coc-zoo-bp%2Coc-zoo-dd%2Coc-zoo-dp%2Coc-zoo-bfd%2Coc-zoo-sd%2Coc-zoo-gl%2Coc-zoo-dd-2%2Coc-zoo-lep%2Coc-zoo-ll%2Coc-zoo-ld%2Coc-zoo-cd%2Coc-zoo-slc%2Coc-zoo-gb%2Coc-zoo-gll&rows=200&start=800&response=metadata%2Curi-meta\n",
      "GET: https://opencontext.org/subjects-search/?flatten-attributes=1&prop=biol-term-hastaxonomy---eol-p-1---eol-p-1642---eol-p-7678&prop=oc-zoo-has-anat-id---obo-uberon-0013588&prop=oc-zoo-anatomical-meas---oc-zoo-von-den-driesch-bone-meas&attributes=oc-zoo-bd%2Coc-zoo-bp%2Coc-zoo-dd%2Coc-zoo-dp%2Coc-zoo-bfd%2Coc-zoo-sd%2Coc-zoo-gl%2Coc-zoo-dd-2%2Coc-zoo-lep%2Coc-zoo-ll%2Coc-zoo-ld%2Coc-zoo-cd%2Coc-zoo-slc%2Coc-zoo-gb%2Coc-zoo-gll&rows=200&start=1000&response=metadata%2Curi-meta\n",
      "GET: https://opencontext.org/subjects-search/?flatten-attributes=1&prop=biol-term-hastaxonomy---eol-p-1---eol-p-1642---eol-p-7678&prop=oc-zoo-has-anat-id---obo-uberon-0013588&prop=oc-zoo-anatomical-meas---oc-zoo-von-den-driesch-bone-meas&attributes=oc-zoo-bd%2Coc-zoo-bp%2Coc-zoo-dd%2Coc-zoo-dp%2Coc-zoo-bfd%2Coc-zoo-sd%2Coc-zoo-gl%2Coc-zoo-dd-2%2Coc-zoo-lep%2Coc-zoo-ll%2Coc-zoo-ld%2Coc-zoo-cd%2Coc-zoo-slc%2Coc-zoo-gb%2Coc-zoo-gll&rows=200&start=1200&response=metadata%2Curi-meta\n",
      "GET: https://opencontext.org/subjects-search/?flatten-attributes=1&prop=biol-term-hastaxonomy---eol-p-1---eol-p-1642---eol-p-7678&prop=oc-zoo-has-anat-id---obo-uberon-0013588&prop=oc-zoo-anatomical-meas---oc-zoo-von-den-driesch-bone-meas&attributes=oc-zoo-bd%2Coc-zoo-bp%2Coc-zoo-dd%2Coc-zoo-dp%2Coc-zoo-bfd%2Coc-zoo-sd%2Coc-zoo-gl%2Coc-zoo-dd-2%2Coc-zoo-lep%2Coc-zoo-ll%2Coc-zoo-ld%2Coc-zoo-cd%2Coc-zoo-slc%2Coc-zoo-gb%2Coc-zoo-gll&rows=200&start=1400&response=metadata%2Curi-meta\n",
      "Number of records: 1451\n"
     ]
    }
   ],
   "source": [
    "url = 'https://opencontext.org/subjects-search/?prop=biol-term-hastaxonomy---eol-p-1---eol-p-1642---eol-p-7678&prop=oc-zoo-has-anat-id---obo-uberon-0013588&prop=oc-zoo-anatomical-meas---oc-zoo-von-den-driesch-bone-meas'\n",
    "oc_api = OpenContextAPI()\n",
    "oc_api.get_selection_attributes(url)\n",
    "records = oc_api.get_paged_json_records(url)\n",
    "print('Number of records: ' + str(len(records)))"
   ]
  },
  {
   "cell_type": "code",
   "execution_count": 13,
   "metadata": {},
   "outputs": [
    {
     "data": {
      "text/plain": [
       "22.3"
      ]
     },
     "execution_count": 13,
     "metadata": {},
     "output_type": "execute_result"
    }
   ],
   "source": [
    "records[100]['Bd']\n",
    "    "
   ]
  },
  {
   "cell_type": "code",
   "execution_count": null,
   "metadata": {
    "collapsed": true
   },
   "outputs": [],
   "source": []
  }
 ],
 "metadata": {
  "kernelspec": {
   "display_name": "Python 3",
   "language": "python",
   "name": "python3"
  },
  "language_info": {
   "codemirror_mode": {
    "name": "ipython",
    "version": 3
   },
   "file_extension": ".py",
   "mimetype": "text/x-python",
   "name": "python",
   "nbconvert_exporter": "python",
   "pygments_lexer": "ipython3",
   "version": "3.5.2"
  }
 },
 "nbformat": 4,
 "nbformat_minor": 2
}
